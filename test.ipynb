{
 "cells": [
  {
   "cell_type": "code",
   "execution_count": 56,
   "metadata": {},
   "outputs": [
    {
     "data": {
      "text/plain": [
       "[{'Ra': 229.8346331235007,\n",
       "  'Dec': -18.32914740041407,\n",
       "  'Distance': 0.9892462558532011,\n",
       "  'Ha': -75.50845847818833,\n",
       "  'alt': -2.1415973590732675,\n",
       "  'az': 113.18957077162281},\n",
       " {'Ra': 252.90333252155864,\n",
       "  'Dec': -25.18326191512633,\n",
       "  'Distance': 1.056393114428525,\n",
       "  'Ha': -98.6044012998962,\n",
       "  'alt': -22.773435720815023,\n",
       "  'az': 104.04690643586544},\n",
       " {'Ra': 273.1997752372804,\n",
       "  'Dec': -25.633628989649793,\n",
       "  'Distance': 1.0872643354336247,\n",
       "  'Ha': -118.90521032468628,\n",
       "  'alt': -37.83662142174586,\n",
       "  'az': 91.88867491869875},\n",
       " {'Ra': 125.48611128972031,\n",
       "  'Dec': 21.362696707537253,\n",
       "  'Distance': 0.9204083673126496,\n",
       "  'Ha': 28.830309239033458,\n",
       "  'alt': 57.97103407058034,\n",
       "  'az': 237.9058146565502},\n",
       " {'Ra': 77.9745989806141,\n",
       "  'Dec': 22.2648650247594,\n",
       "  'Distance': 4.163622406041968,\n",
       "  'Ha': 76.33101183369985,\n",
       "  'alt': 24.661288862081147,\n",
       "  'az': 278.4139221432753},\n",
       " {'Ra': 344.53414924295544,\n",
       "  'Dec': -8.872115587748167,\n",
       "  'Distance': 9.260200745687515,\n",
       "  'Ha': 169.82062761467546,\n",
       "  'alt': -55.20852206120105,\n",
       "  'az': 342.1702553139858},\n",
       " {'Ra': 52.71635963793523,\n",
       "  'Dec': 18.757011262453773,\n",
       "  'Distance': 18.573130173377688,\n",
       "  'Ha': 101.60744617492324,\n",
       "  'alt': 4.414848319564221,\n",
       "  'az': 291.5921858615235},\n",
       " {'Ra': 357.7104472764603,\n",
       "  'Dec': -2.424102525759065,\n",
       "  'Distance': 29.32161739606583,\n",
       "  'Ha': 156.65003701860417,\n",
       "  'alt': -44.80817637168182,\n",
       "  'az': 326.0635501376605},\n",
       " {'Ra': 302.4694293942002,\n",
       "  'Dec': -23.424543217584535,\n",
       "  'Distance': 35.50766965790856,\n",
       "  'Ha': -148.15951703570872,\n",
       "  'alt': -57.49934607949984,\n",
       "  'az': 64.35296014915767}]"
      ]
     },
     "execution_count": 56,
     "metadata": {},
     "output_type": "execute_result"
    }
   ],
   "source": [
    "from skyfield.api import load\n",
    "from skyfield.api import N,S,E,W, wgs84\n",
    "\n",
    "eph = load('de421.bsp')\n",
    "ts = load.timescale()\n",
    "\n",
    "\n",
    "T = ts.now()\n",
    "\n",
    "        \n",
    "Earth = eph['earth']\n",
    "Observer = Earth + wgs84.latlon(42.3583 * N, 71.0603 * W, elevation_m=43)\n",
    "Bodies = ['sun','mercury','venus','mars','jupiter','saturn','uranus','neptune','pluto']\n",
    "Objects = [Observer.at(T).observe(eph[(i + \" barycenter\" if i != \"sun\" else \"sun\")]) for i in Bodies]\n",
    "        \n",
    "        \n",
    "parse = lambda x: [ x[0]._degrees, x[1].degrees,x[2].au]\n",
    "\n",
    "radec = [parse(i.radec()) for i in Objects]\n",
    "hadec = [parse(i.hadec()) for i in Objects]\n",
    "altaz = [[j.degrees for j in i.apparent().altaz()[:-1]] for i in Objects]\n",
    "\n",
    "\n",
    "parameters = ['Ra','Dec','Distance','Ha','alt','az']    \n",
    "    \n",
    "\n",
    "data = [dict(zip(parameters,i + j[:1] + k)) for i,j,k in zip(radec,hadec,altaz)]\n",
    "        \n",
    "        \n",
    "data\n",
    "    # the code below is executed if the request method\n",
    "    # was GET or the credentials were invalid\n"
   ]
  },
  {
   "cell_type": "code",
   "execution_count": 57,
   "metadata": {},
   "outputs": [
    {
     "data": {
      "text/plain": [
       "<Angle 22deg 27' 29.7\">"
      ]
     },
     "execution_count": 57,
     "metadata": {},
     "output_type": "execute_result"
    }
   ],
   "source": [
    "Objects[0].apparent().separation_from(Objects[1].apparent())"
   ]
  },
  {
   "cell_type": "code",
   "execution_count": 71,
   "metadata": {},
   "outputs": [
    {
     "data": {
      "text/plain": [
       "22.457857304317095"
      ]
     },
     "execution_count": 71,
     "metadata": {},
     "output_type": "execute_result"
    }
   ],
   "source": [
    "import numpy as np\n",
    "\n",
    "A = np.deg2rad(radec[0][:-1])\n",
    "B = np.deg2rad(radec[1][:-1])\n",
    "\n",
    "\n",
    "np.rad2deg(np.arccos(np.cos(A[0]-B[0])*np.cos(A[1])*np.cos(B[1]) + np.sin(A[1])*np.sin(B[1])))"
   ]
  },
  {
   "cell_type": "code",
   "execution_count": 72,
   "metadata": {},
   "outputs": [],
   "source": [
    "from datetime import datetime"
   ]
  },
  {
   "cell_type": "code",
   "execution_count": null,
   "metadata": {},
   "outputs": [],
   "source": [
    "date = tuple( )"
   ]
  },
  {
   "cell_type": "code",
   "execution_count": null,
   "metadata": {},
   "outputs": [
    {
     "ename": "TypeError",
     "evalue": "'generator' object cannot be interpreted as an integer",
     "output_type": "error",
     "traceback": [
      "\u001b[1;31m---------------------------------------------------------------------------\u001b[0m",
      "\u001b[1;31mTypeError\u001b[0m                                 Traceback (most recent call last)",
      "Cell \u001b[1;32mIn[90], line 1\u001b[0m\n\u001b[1;32m----> 1\u001b[0m \u001b[43mdatetime\u001b[49m\u001b[43m(\u001b[49m\u001b[38;5;28;43mint\u001b[39;49m\u001b[43m(\u001b[49m\u001b[43mi\u001b[49m\u001b[43m)\u001b[49m\u001b[43m \u001b[49m\u001b[38;5;28;43;01mfor\u001b[39;49;00m\u001b[43m \u001b[49m\u001b[43mi\u001b[49m\u001b[43m \u001b[49m\u001b[38;5;129;43;01min\u001b[39;49;00m\u001b[43m \u001b[49m\u001b[38;5;124;43m\"\u001b[39;49m\u001b[38;5;124;43m2024-11-05\u001b[39;49m\u001b[38;5;124;43m\"\u001b[39;49m\u001b[38;5;241;43m.\u001b[39;49m\u001b[43msplit\u001b[49m\u001b[43m(\u001b[49m\u001b[38;5;124;43m'\u001b[39;49m\u001b[38;5;124;43m-\u001b[39;49m\u001b[38;5;124;43m'\u001b[39;49m\u001b[43m)\u001b[49m\u001b[43m \u001b[49m\u001b[38;5;241;43m+\u001b[39;49m\u001b[43m \u001b[49m\u001b[38;5;124;43m\"\u001b[39;49m\u001b[38;5;124;43m17:30\u001b[39;49m\u001b[38;5;124;43m\"\u001b[39;49m\u001b[38;5;241;43m.\u001b[39;49m\u001b[43msplit\u001b[49m\u001b[43m(\u001b[49m\u001b[38;5;124;43m\"\u001b[39;49m\u001b[38;5;124;43m:\u001b[39;49m\u001b[38;5;124;43m\"\u001b[39;49m\u001b[43m)\u001b[49m\u001b[43m)\u001b[49m\n",
      "\u001b[1;31mTypeError\u001b[0m: 'generator' object cannot be interpreted as an integer"
     ]
    }
   ],
   "source": [
    "datetime(list(int(i) for i in \"2024-11-05\".split('-') + \"17:30\".split(\":\"))"
   ]
  },
  {
   "cell_type": "code",
   "execution_count": null,
   "metadata": {},
   "outputs": [
    {
     "data": {
      "text/plain": [
       "<Time tt=2456673.7731039813>"
      ]
     },
     "execution_count": 98,
     "metadata": {},
     "output_type": "execute_result"
    }
   ],
   "source": [
    "from pytz import timezone\n",
    "eastern = timezone('US/Eastern')\n"
   ]
  },
  {
   "cell_type": "code",
   "execution_count": null,
   "metadata": {},
   "outputs": [
    {
     "ename": "SyntaxError",
     "evalue": "expected ':' (1995524317.py, line 1)",
     "output_type": "error",
     "traceback": [
      "\u001b[1;36m  Cell \u001b[1;32mIn[102], line 1\u001b[1;36m\u001b[0m\n\u001b[1;33m    try x == 3:\u001b[0m\n\u001b[1;37m        ^\u001b[0m\n\u001b[1;31mSyntaxError\u001b[0m\u001b[1;31m:\u001b[0m expected ':'\n"
     ]
    }
   ],
   "source": [
    "assert "
   ]
  },
  {
   "cell_type": "code",
   "execution_count": null,
   "metadata": {},
   "outputs": [],
   "source": []
  }
 ],
 "metadata": {
  "kernelspec": {
   "display_name": "Python 3",
   "language": "python",
   "name": "python3"
  },
  "language_info": {
   "codemirror_mode": {
    "name": "ipython",
    "version": 3
   },
   "file_extension": ".py",
   "mimetype": "text/x-python",
   "name": "python",
   "nbconvert_exporter": "python",
   "pygments_lexer": "ipython3",
   "version": "3.11.4"
  }
 },
 "nbformat": 4,
 "nbformat_minor": 2
}
